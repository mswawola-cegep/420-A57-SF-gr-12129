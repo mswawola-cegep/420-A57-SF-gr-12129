{
 "cells": [
  {
   "cell_type": "markdown",
   "id": "extra-termination",
   "metadata": {},
   "source": [
    "# 04 - Infonuagique 1 - Atelier #1"
   ]
  },
  {
   "cell_type": "markdown",
   "id": "announced-deviation",
   "metadata": {},
   "source": [
    "### Importation des bibliothèques"
   ]
  },
  {
   "cell_type": "code",
   "execution_count": null,
   "id": "minimal-mention",
   "metadata": {},
   "outputs": [],
   "source": [
    "import io\n",
    "import os\n",
    "from google.cloud import vision\n",
    "\n",
    "from utils import display_objects_results, display_image"
   ]
  },
  {
   "cell_type": "code",
   "execution_count": null,
   "id": "spectacular-bottom",
   "metadata": {},
   "outputs": [],
   "source": [
    "%matplotlib inline\n",
    "import matplotlib.pyplot as plt\n",
    "plt.rcParams[\"figure.figsize\"] = (20,10)"
   ]
  },
  {
   "cell_type": "markdown",
   "id": "signal-barbados",
   "metadata": {},
   "source": [
    "### Affichage de l'image"
   ]
  },
  {
   "cell_type": "code",
   "execution_count": null,
   "id": "transsexual-engine",
   "metadata": {},
   "outputs": [],
   "source": [
    "_ = display_image('wakeupcat.jpg')"
   ]
  },
  {
   "cell_type": "markdown",
   "id": "loose-workplace",
   "metadata": {},
   "source": [
    "### Instanciation du client"
   ]
  },
  {
   "cell_type": "code",
   "execution_count": null,
   "id": "apart-terry",
   "metadata": {},
   "outputs": [],
   "source": [
    "client = vision.ImageAnnotatorClient()"
   ]
  },
  {
   "cell_type": "markdown",
   "id": "confirmed-blood",
   "metadata": {},
   "source": [
    "### Chargement de l'image"
   ]
  },
  {
   "cell_type": "code",
   "execution_count": null,
   "id": "colored-exclusion",
   "metadata": {},
   "outputs": [],
   "source": [
    "file_name = os.path.abspath('wakeupcat.jpg')\n",
    "\n",
    "with io.open(file_name, 'rb') as image_file:\n",
    "    content = image_file.read()\n",
    "\n",
    "image = vision.Image(content=content)"
   ]
  },
  {
   "cell_type": "markdown",
   "id": "official-startup",
   "metadata": {},
   "source": [
    "### Détection des \"étiquette\" présentes dans l'image"
   ]
  },
  {
   "cell_type": "code",
   "execution_count": null,
   "id": "technical-nicaragua",
   "metadata": {},
   "outputs": [],
   "source": [
    "response = client.label_detection(image=image)\n",
    "labels = response.label_annotations"
   ]
  },
  {
   "cell_type": "code",
   "execution_count": null,
   "id": "pediatric-partition",
   "metadata": {},
   "outputs": [],
   "source": [
    "print('Labels:')\n",
    "for label in labels:\n",
    "    print(label.description)"
   ]
  },
  {
   "cell_type": "markdown",
   "id": "included-actress",
   "metadata": {},
   "source": [
    "### Détection d'objets"
   ]
  },
  {
   "cell_type": "code",
   "execution_count": null,
   "id": "floppy-region",
   "metadata": {},
   "outputs": [],
   "source": [
    "objects = client.object_localization(image=image).localized_object_annotations"
   ]
  },
  {
   "cell_type": "code",
   "execution_count": null,
   "id": "engaging-pressing",
   "metadata": {},
   "outputs": [],
   "source": [
    "print('Number of objects found: {}'.format(len(objects)))\n",
    "for object_ in objects:\n",
    "    print('\\n{} (confidence: {})'.format(object_.name, object_.score))\n",
    "    print('Normalized bounding polygon vertices: ')\n",
    "    for vertex in object_.bounding_poly.normalized_vertices:\n",
    "        print(' - ({}, {})'.format(vertex.x, vertex.y))"
   ]
  },
  {
   "cell_type": "code",
   "execution_count": null,
   "id": "developed-debut",
   "metadata": {},
   "outputs": [],
   "source": [
    "display_objects_results('wakeupcat.jpg', objects, 0.5)"
   ]
  },
  {
   "cell_type": "markdown",
   "id": "desperate-gossip",
   "metadata": {},
   "source": [
    "### Avec une autre image"
   ]
  },
  {
   "cell_type": "code",
   "execution_count": null,
   "id": "fancy-substance",
   "metadata": {},
   "outputs": [],
   "source": [
    "file_name = os.path.abspath('raptors.jpg')\n",
    "\n",
    "with io.open(file_name, 'rb') as image_file:\n",
    "    content = image_file.read()\n",
    "\n",
    "image = vision.Image(content=content)"
   ]
  },
  {
   "cell_type": "code",
   "execution_count": null,
   "id": "handled-reputation",
   "metadata": {},
   "outputs": [],
   "source": [
    "response = client.label_detection(image=image)\n",
    "labels = response.label_annotations"
   ]
  },
  {
   "cell_type": "code",
   "execution_count": null,
   "id": "extensive-opportunity",
   "metadata": {},
   "outputs": [],
   "source": [
    "print('Labels:')\n",
    "for label in labels:\n",
    "    print(label.description)"
   ]
  },
  {
   "cell_type": "code",
   "execution_count": null,
   "id": "political-metallic",
   "metadata": {},
   "outputs": [],
   "source": [
    "objects = client.object_localization(image=image).localized_object_annotations"
   ]
  },
  {
   "cell_type": "code",
   "execution_count": null,
   "id": "realistic-contest",
   "metadata": {},
   "outputs": [],
   "source": [
    "display_objects_results('raptors.jpg', objects, 0.5)"
   ]
  },
  {
   "cell_type": "code",
   "execution_count": null,
   "id": "qualified-button",
   "metadata": {},
   "outputs": [],
   "source": []
  }
 ],
 "metadata": {
  "kernelspec": {
   "display_name": "Python 3",
   "language": "python",
   "name": "python3"
  },
  "language_info": {
   "codemirror_mode": {
    "name": "ipython",
    "version": 3
   },
   "file_extension": ".py",
   "mimetype": "text/x-python",
   "name": "python",
   "nbconvert_exporter": "python",
   "pygments_lexer": "ipython3",
   "version": "3.8.6"
  }
 },
 "nbformat": 4,
 "nbformat_minor": 5
}
